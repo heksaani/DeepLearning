{
 "cells": [
  {
   "cell_type": "markdown",
   "metadata": {},
   "source": [
    "#### Print your name"
   ]
  },
  {
   "cell_type": "code",
   "execution_count": 1,
   "metadata": {},
   "outputs": [
    {
     "name": "stdout",
     "output_type": "stream",
     "text": [
      "Exercise by: Heidi Putkuri\n"
     ]
    }
   ],
   "source": [
    "## Your code here \n",
    "print(\"Exercise by: Heidi Putkuri\")"
   ]
  },
  {
   "cell_type": "markdown",
   "metadata": {},
   "source": [
    "# Inference and Validation\n",
    "\n",
    "Now that you have a trained network, you can use it for making predictions. This is typically called **inference**, a term borrowed from statistics. However, neural networks have a tendency to perform *too well* on the training data and aren't able to generalize to data that hasn't been seen before. This is called **overfitting** and it impairs inference performance. To test for overfitting while training, we measure the performance on data not in the training set called the **validation** set. We avoid overfitting through regularization such as dropout while monitoring the validation performance during training. In this notebook, I'll show you how to do this in PyTorch. \n",
    "\n",
    "As usual, let's start by loading the dataset through torchvision. You'll learn more about torchvision and loading data in a later part. This time we'll be taking advantage of the test set which you can get by setting `train=False` here:\n",
    "\n",
    "```python\n",
    "testset = datasets.FashionMNIST('~/.pytorch/F_MNIST_data/', download=True, train=False, transform=transform)\n",
    "```\n",
    "\n",
    "The test set contains images just like the training set. Typically you'll see 10-20% of the original dataset held out for testing and validation with the rest being used for training."
   ]
  },
  {
   "cell_type": "code",
   "execution_count": 2,
   "metadata": {},
   "outputs": [],
   "source": [
    "import torch\n",
    "from torchvision import datasets, transforms\n",
    "\n",
    "# Define a transform to normalize the data\n",
    "transform = transforms.Compose([transforms.ToTensor(),\n",
    "                                transforms.Normalize((0.5,), (0.5,))])\n",
    "# Download and load the training data\n",
    "trainset = datasets.FashionMNIST('~/.pytorch/F_MNIST_data/', download=True, train=True, transform=transform)\n",
    "trainloader = torch.utils.data.DataLoader(trainset, batch_size=64, shuffle=True)\n",
    "\n",
    "# Download and load the test data\n",
    "testset = datasets.FashionMNIST('~/.pytorch/F_MNIST_data/', download=True, train=False, transform=transform)\n",
    "testloader = torch.utils.data.DataLoader(testset, batch_size=64, shuffle=True)"
   ]
  },
  {
   "cell_type": "markdown",
   "metadata": {},
   "source": [
    "Here I'll create a model like normal, using the same one from my solution for part 4."
   ]
  },
  {
   "cell_type": "code",
   "execution_count": 3,
   "metadata": {},
   "outputs": [],
   "source": [
    "from torch import nn, optim\n",
    "import torch.nn.functional as F\n",
    "\n",
    "class Classifier(nn.Module):\n",
    "    def __init__(self):\n",
    "        super().__init__()\n",
    "        self.fc1 = nn.Linear(784, 256)\n",
    "        self.fc2 = nn.Linear(256, 128)\n",
    "        self.fc3 = nn.Linear(128, 64)\n",
    "        self.fc4 = nn.Linear(64, 10)\n",
    "        \n",
    "    def forward(self, x):\n",
    "        # make sure input tensor is flattened\n",
    "        #print(x.shape)\n",
    "        x = x.view(x.shape[0], -1)\n",
    "        #print(x.shape)\n",
    "        \n",
    "        x = F.relu(self.fc1(x))\n",
    "        x = F.relu(self.fc2(x))\n",
    "        x = F.relu(self.fc3(x))\n",
    "        x = F.log_softmax(self.fc4(x), dim=1)\n",
    "        \n",
    "        return x"
   ]
  },
  {
   "cell_type": "markdown",
   "metadata": {},
   "source": [
    "The goal of validation is to measure the model's performance on data that isn't part of the training set. Performance here is up to the developer to define though. Typically this is just accuracy, the percentage of classes the network predicted correctly. Other options are [precision and recall](https://en.wikipedia.org/wiki/Precision_and_recall#Definition_(classification_context)) and top-5 error rate. We'll focus on accuracy here. First I'll do a forward pass with one batch from the test set."
   ]
  },
  {
   "cell_type": "code",
   "execution_count": 4,
   "metadata": {},
   "outputs": [
    {
     "name": "stdout",
     "output_type": "stream",
     "text": [
      "torch.Size([64, 10])\n"
     ]
    }
   ],
   "source": [
    "model = Classifier()\n",
    "\n",
    "images, labels = next(iter(testloader))\n",
    "# Get the class probabilities\n",
    "ps = torch.exp(model(images))\n",
    "# Make sure the shape is appropriate, we should get 10 class probabilities for 64 examples\n",
    "print(ps.shape)"
   ]
  },
  {
   "cell_type": "markdown",
   "metadata": {},
   "source": [
    "With the probabilities, we can get the most likely class using the `ps.topk` method. This returns the $k$ highest values. Since we just want the most likely class, we can use `ps.topk(1)`. This returns a tuple of the top-$k$ values and the top-$k$ indices. If the highest value is the fifth element, we'll get back 4 as the index."
   ]
  },
  {
   "cell_type": "code",
   "execution_count": 5,
   "metadata": {},
   "outputs": [
    {
     "name": "stdout",
     "output_type": "stream",
     "text": [
      "tensor([[3],\n",
      "        [3],\n",
      "        [1],\n",
      "        [3],\n",
      "        [3],\n",
      "        [1],\n",
      "        [1],\n",
      "        [3],\n",
      "        [1],\n",
      "        [1]])\n",
      "Correct labels: tensor([9, 6, 6, 2, 6, 4, 5, 2, 9, 3])\n"
     ]
    }
   ],
   "source": [
    "top_p, top_class = ps.topk(1, dim=1) # top k values and classes\n",
    "# Look at the most likely classes for the first 10 examples\n",
    "# note. At this point the network is not trained!\n",
    "\n",
    "print(top_class[:10,:]) # this prints the top 10 classes\n",
    "print(\"Correct labels:\", labels[:10]) # this prints the correct labels for the top 10 classes"
   ]
  },
  {
   "cell_type": "markdown",
   "metadata": {},
   "source": [
    "Now we can check if the predicted classes match the labels. This is simple to do by equating `top_class` and `labels`, but we have to be careful of the shapes. Here `top_class` is a 2D tensor with shape `(64, 1)` while `labels` is 1D with shape `(64)`. To get the equality to work out the way we want, `top_class` and `labels` must have the same shape.\n",
    "\n",
    "If we do\n",
    "\n",
    "```python\n",
    "equals = top_class == labels\n",
    "```\n",
    "\n",
    "`equals` will have shape `(64, 64)`, try it yourself. What it's doing is comparing the one element in each row of `top_class` with each element in `labels` which returns 64 True/False boolean values for each row."
   ]
  },
  {
   "cell_type": "code",
   "execution_count": 6,
   "metadata": {},
   "outputs": [],
   "source": [
    "equals = top_class == labels.view(*top_class.shape)"
   ]
  },
  {
   "cell_type": "code",
   "execution_count": 7,
   "metadata": {},
   "outputs": [
    {
     "name": "stdout",
     "output_type": "stream",
     "text": [
      "tensor([[False],\n",
      "        [False],\n",
      "        [False],\n",
      "        [False],\n",
      "        [False],\n",
      "        [False],\n",
      "        [False],\n",
      "        [False],\n",
      "        [False],\n",
      "        [False]])\n"
     ]
    }
   ],
   "source": [
    "# the 10 first from equals tensor\n",
    "print(equals[:10])"
   ]
  },
  {
   "cell_type": "markdown",
   "metadata": {},
   "source": [
    "Now we need to calculate the percentage of correct predictions. `equals` has binary values, either 0 or 1. This means that if we just sum up all the values and divide by the number of values, we get the percentage of correct predictions. This is the same operation as taking the mean, so we can get the accuracy with a call to `torch.mean`. If only it was that simple. If you try `torch.mean(equals)`, you'll get an error\n",
    "\n",
    "```\n",
    "RuntimeError: mean is not implemented for type torch.ByteTensor\n",
    "```\n",
    "\n",
    "This happens because `equals` has type `torch.ByteTensor` but `torch.mean` isn't implemented for tensors with that type. So we'll need to convert `equals` to a float tensor. Note that when we take `torch.mean` it returns a scalar tensor, to get the actual value as a float we'll need to do `accuracy.item()`."
   ]
  },
  {
   "cell_type": "code",
   "execution_count": 8,
   "metadata": {},
   "outputs": [
    {
     "name": "stdout",
     "output_type": "stream",
     "text": [
      "Accuracy: 4.6875%\n"
     ]
    }
   ],
   "source": [
    "accuracy = torch.mean(equals.type(torch.FloatTensor))\n",
    "print(f'Accuracy: {accuracy.item()*100}%')"
   ]
  },
  {
   "cell_type": "markdown",
   "metadata": {},
   "source": [
    "The network is untrained so it's making random guesses and we should see an accuracy around 10%. Now let's train our network and include our validation pass so we can measure how well the network is performing on the test set. Since we're not updating our parameters in the validation pass, we can speed up our code by turning off gradients using `torch.no_grad()`:\n",
    "\n",
    "```python\n",
    "# turn off gradients\n",
    "with torch.no_grad():\n",
    "    # validation pass here\n",
    "    for images, labels in testloader:\n",
    "        ...\n",
    "```\n"
   ]
  },
  {
   "cell_type": "markdown",
   "metadata": {},
   "source": [
    "***\n",
    "### Exercise: \n",
    "Implement the validation loop below and print out the total accuracy after the loop. You can largely copy and paste the code from above, but I suggest typing it in because writing it out yourself is essential for building the skill. In general you'll always learn more by typing it rather than copy-pasting. You should be able to get an accuracy above 80%.\n",
    "\n",
    "**Hint.** Use this frame for your solution\n",
    "```python\n",
    "\n",
    "train_losses1 = []\n",
    "test_losses1 = []\n",
    "test_accuracy1 = []\n",
    "\n",
    "model1 = Classifier()\n",
    "criterion1 = nn.NLLLoss()\n",
    "optimizer1 = optim.Adam(model1.parameters(), lr=0.003)\n",
    "\n",
    "epochs = 30\n",
    "steps = 0\n",
    "\n",
    "for e in range(epochs):\n",
    "    running_loss = 0\n",
    "    for images, labels in trainloader:\n",
    "        \n",
    "        optimizer.zero_grad()\n",
    "        \n",
    "        log_ps = model1(images)\n",
    "        loss = criterion1(log_ps, labels)\n",
    "        loss.backward()\n",
    "        optimizer1.step()\n",
    "        \n",
    "        running_loss += loss.item()\n",
    "        \n",
    "    else:\n",
    "        ## TODO: Implement the validation pass and print out the validation accuracy\n",
    "```"
   ]
  },
  {
   "cell_type": "code",
   "execution_count": 9,
   "metadata": {},
   "outputs": [
    {
     "name": "stdout",
     "output_type": "stream",
     "text": [
      "Epoch: 1/30.. Training loss: 0.520.. Test loss: 0.444.. Test accuracy: 0.840\n",
      "Epoch: 2/30.. Training loss: 0.393.. Test loss: 0.438.. Test accuracy: 0.843\n",
      "Epoch: 3/30.. Training loss: 0.355.. Test loss: 0.420.. Test accuracy: 0.852\n",
      "Epoch: 4/30.. Training loss: 0.334.. Test loss: 0.397.. Test accuracy: 0.863\n",
      "Epoch: 5/30.. Training loss: 0.320.. Test loss: 0.396.. Test accuracy: 0.868\n",
      "Epoch: 6/30.. Training loss: 0.303.. Test loss: 0.383.. Test accuracy: 0.868\n",
      "Epoch: 7/30.. Training loss: 0.295.. Test loss: 0.357.. Test accuracy: 0.876\n",
      "Epoch: 8/30.. Training loss: 0.286.. Test loss: 0.364.. Test accuracy: 0.876\n",
      "Epoch: 9/30.. Training loss: 0.276.. Test loss: 0.364.. Test accuracy: 0.877\n",
      "Epoch: 10/30.. Training loss: 0.269.. Test loss: 0.377.. Test accuracy: 0.873\n",
      "Epoch: 11/30.. Training loss: 0.260.. Test loss: 0.356.. Test accuracy: 0.879\n",
      "Epoch: 12/30.. Training loss: 0.254.. Test loss: 0.383.. Test accuracy: 0.876\n",
      "Epoch: 13/30.. Training loss: 0.251.. Test loss: 0.379.. Test accuracy: 0.871\n",
      "Epoch: 14/30.. Training loss: 0.241.. Test loss: 0.375.. Test accuracy: 0.879\n",
      "Epoch: 15/30.. Training loss: 0.237.. Test loss: 0.364.. Test accuracy: 0.880\n",
      "Epoch: 16/30.. Training loss: 0.234.. Test loss: 0.367.. Test accuracy: 0.878\n",
      "Epoch: 17/30.. Training loss: 0.228.. Test loss: 0.374.. Test accuracy: 0.881\n",
      "Epoch: 18/30.. Training loss: 0.225.. Test loss: 0.371.. Test accuracy: 0.880\n",
      "Epoch: 19/30.. Training loss: 0.224.. Test loss: 0.389.. Test accuracy: 0.880\n",
      "Epoch: 20/30.. Training loss: 0.221.. Test loss: 0.407.. Test accuracy: 0.880\n",
      "Epoch: 21/30.. Training loss: 0.214.. Test loss: 0.407.. Test accuracy: 0.874\n",
      "Epoch: 22/30.. Training loss: 0.209.. Test loss: 0.426.. Test accuracy: 0.875\n",
      "Epoch: 23/30.. Training loss: 0.204.. Test loss: 0.387.. Test accuracy: 0.882\n",
      "Epoch: 24/30.. Training loss: 0.204.. Test loss: 0.384.. Test accuracy: 0.883\n",
      "Epoch: 25/30.. Training loss: 0.207.. Test loss: 0.377.. Test accuracy: 0.884\n",
      "Epoch: 26/30.. Training loss: 0.200.. Test loss: 0.385.. Test accuracy: 0.888\n",
      "Epoch: 27/30.. Training loss: 0.191.. Test loss: 0.411.. Test accuracy: 0.882\n",
      "Epoch: 28/30.. Training loss: 0.193.. Test loss: 0.399.. Test accuracy: 0.888\n",
      "Epoch: 29/30.. Training loss: 0.194.. Test loss: 0.412.. Test accuracy: 0.883\n",
      "Epoch: 30/30.. Training loss: 0.188.. Test loss: 0.421.. Test accuracy: 0.883\n"
     ]
    }
   ],
   "source": [
    "## Task 1:\n",
    "## Your code here \n",
    "\n",
    "train_losses1 = []\n",
    "test_losses1 = []\n",
    "test_accuracy1 = []\n",
    "\n",
    "model1 = Classifier()\n",
    "criterion1 = nn.NLLLoss()\n",
    "optimizer1 = optim.Adam(model1.parameters(), lr=0.003)\n",
    "\n",
    "epochs = 30\n",
    "steps = 0\n",
    "for e in range(epochs):\n",
    "    running_loss = 0  # Reset training loss for the epoch\n",
    "\n",
    "    for images, labels in trainloader:\n",
    "        optimizer1.zero_grad()\n",
    "        \n",
    "        log_ps = model1(images)  # Forward pass, returns log probabilities\n",
    "        loss = criterion1(log_ps, labels)  # Calculate the NLL loss comparing log probabilities and true labels\n",
    "        loss.backward()  # Backpropagation to calculate gradients for weights using loss\n",
    "        optimizer1.step()  # Update the weights using gradients calculated in backpropagation\n",
    "        running_loss += loss.item() \n",
    "\n",
    "    train_losses1.append(running_loss / len(trainloader))\n",
    "\n",
    "    test_loss = 0 \n",
    "    accuracy = 0   # Reset accuracy\n",
    "\n",
    "    with torch.no_grad():  # Turn off gradients for validation\n",
    "        for images, labels in testloader:\n",
    "            log_ps = model1(images)  # Forward pass\n",
    "            loss = criterion1(log_ps, labels)\n",
    "            test_loss += loss.item() \n",
    "\n",
    "            class_probabilities = torch.exp(log_ps)  # Convert log probabilities to probabilities\n",
    "            top_p, top_class = class_probabilities.topk(1, dim=1)  #get the top class and its probability\n",
    "            equals = top_class == labels.view(*top_class.shape)  # Compare with true labels\n",
    "            accuracy += torch.sum(equals).item()  # Count correct predictions\n",
    "\n",
    "    test_losses1.append(test_loss / len(testloader))  # calculate average test loss for the epoch\n",
    "    test_accuracy1.append(accuracy / len(testloader.dataset)) # calculate average test accuracy for the epoch\n",
    "\n",
    "    print(f'Epoch: {e+1}/{epochs}.. '\n",
    "            f'Training loss: {train_losses1[-1]:.3f}.. '\n",
    "            f'Test loss: {test_losses1[-1]:.3f}.. '\n",
    "            f'Test accuracy: {test_accuracy1[-1]:.3f}')\n"
   ]
  },
  {
   "cell_type": "code",
   "execution_count": 10,
   "metadata": {},
   "outputs": [],
   "source": [
    "#import plotly.graph_objects as go\n",
    "\n",
    "#fig = go.Figure()\n",
    "#fig.add_trace(go.Scatter(x=list(range(epochs)), y=train_losses1, mode='lines', name='Training loss'))\n",
    "#fig.add_trace(go.Scatter(x=list(range(epochs)), y=test_losses1, mode='lines', name='Test loss'))\n",
    "#fig.update_layout(\n",
    "#    title='Training and Test loss',\n",
    "#    plot_bgcolor='white'\n",
    "#)\n",
    "\n",
    "#fig.update_xaxes(\n",
    "#    mirror=True,\n",
    "#    ticks='outside',\n",
    "#    showline=True,\n",
    "#    linecolor='black',\n",
    "#    gridcolor='lightgrey'\n",
    "#)\n",
    "#fig.update_yaxes(\n",
    "#    mirror=True,\n",
    "#   ticks='outside',\n",
    "#    showline=True,\n",
    "#    linecolor='black',\n",
    "#    gridcolor='lightgrey'\n",
    "#)"
   ]
  },
  {
   "cell_type": "markdown",
   "metadata": {},
   "source": [
    "***\n",
    "## Overfitting\n",
    "\n",
    "If we look at the training and validation losses as we train the network, we can see a phenomenon known as overfitting.\n",
    "\n",
    "<img src='../data/assets/overfitting.png' width=450px>\n",
    "\n",
    "The network learns the training set better and better, resulting in lower training losses. However, it starts having problems generalizing to data outside the training set leading to the validation loss increasing. The ultimate goal of any deep learning model is to make predictions on new data, so we should strive to get the lowest validation loss possible. One option is to use the version of the model with the lowest validation loss, here the one around 8-10 training epochs. This strategy is called *early-stopping*. In practice, you'd save the model frequently as you're training then later choose the model with the lowest validation loss.\n",
    "\n",
    "The most common method to reduce overfitting (outside of early-stopping) is *dropout*, where we randomly drop input units. This forces the network to share information between weights, increasing it's ability to generalize to new data. Adding dropout in PyTorch is straightforward using the [`nn.Dropout`](https://pytorch.org/docs/stable/nn.html#torch.nn.Dropout) module.\n",
    "\n",
    "```python\n",
    "class Classifier(nn.Module):\n",
    "    def __init__(self):\n",
    "        super().__init__()\n",
    "        self.fc1 = nn.Linear(784, 256)\n",
    "        self.fc2 = nn.Linear(256, 128)\n",
    "        self.fc3 = nn.Linear(128, 64)\n",
    "        self.fc4 = nn.Linear(64, 10)\n",
    "        \n",
    "        # Dropout module with 0.2 drop probability\n",
    "        self.dropout = nn.Dropout(p=0.2)\n",
    "        \n",
    "    def forward(self, x):\n",
    "        # make sure input tensor is flattened\n",
    "        x = x.view(x.shape[0], -1)\n",
    "        \n",
    "        # Now with dropout\n",
    "        x = self.dropout(F.relu(self.fc1(x)))\n",
    "        x = self.dropout(F.relu(self.fc2(x)))\n",
    "        x = self.dropout(F.relu(self.fc3(x)))\n",
    "        \n",
    "        # output so no dropout here\n",
    "        x = F.log_softmax(self.fc4(x), dim=1)\n",
    "        \n",
    "        return x\n",
    "```\n",
    "\n",
    "During training we want to use dropout to prevent overfitting, but during inference we want to use the entire network. So, we need to turn off dropout during validation, testing, and whenever we're using the network to make predictions. To do this, you use `model.eval()`. This sets the model to evaluation mode where the dropout probability is 0. You can turn dropout back on by setting the model to train mode with `model.train()`. In general, the pattern for the validation loop will look like this, where you turn off gradients, set the model to evaluation mode, calculate the validation loss and metric, then set the model back to train mode.\n",
    "\n",
    "```python\n",
    "# turn off gradients\n",
    "with torch.no_grad():\n",
    "    \n",
    "    # set model to evaluation mode\n",
    "    model.eval()\n",
    "    \n",
    "    # validation pass here\n",
    "    for images, labels in testloader:\n",
    "        ...\n",
    "\n",
    "# set model back to train mode\n",
    "model.train()\n",
    "```"
   ]
  },
  {
   "cell_type": "markdown",
   "metadata": {},
   "source": [
    "***\n",
    "### Exercise:\n",
    "\n",
    "**Part A**: Define network with dropout."
   ]
  },
  {
   "cell_type": "code",
   "execution_count": 11,
   "metadata": {},
   "outputs": [],
   "source": [
    "## Task 2:\n",
    "## Your code here \n",
    "\n",
    "\n",
    "class Classifier(nn.Module):\n",
    "    def __init__(self):\n",
    "        super().__init__()\n",
    "        self.fc1 = nn.Linear(784, 256)\n",
    "        self.fc2 = nn.Linear(256, 128)\n",
    "        self.fc3 = nn.Linear(128, 64)\n",
    "        self.fc4 = nn.Linear(64, 10)\n",
    "\n",
    "        self.dropout = nn.Dropout(p=0.2)  \n",
    "        # https://pytorch.org/docs/stable/generated/torch.nn.Dropout.html:\n",
    "        # During training, randomly zeroes some of the elements of the input tensor with probability p.\n",
    "        \n",
    "    def forward(self, x):\n",
    "        x = x.view(x.shape[0], -1)\n",
    "        # droup on each layer in the forward pass\n",
    "        x = self.dropout(F.relu(self.fc1(x)))\n",
    "        x = self.dropout(F.relu(self.fc2(x))) \n",
    "        x = self.dropout(F.relu(self.fc3(x)))\n",
    "        x = F.log_softmax(self.fc4(x), dim=1)\n",
    "        \n",
    "        return x \n",
    "\n",
    "\n"
   ]
  },
  {
   "cell_type": "markdown",
   "metadata": {},
   "source": [
    "***\n",
    "**Part B**: Train the network with Fashion-MNIST again.\n",
    "- monitor the training progress with the validation loss and accuracy"
   ]
  },
  {
   "cell_type": "code",
   "execution_count": 18,
   "metadata": {},
   "outputs": [
    {
     "name": "stdout",
     "output_type": "stream",
     "text": [
      "Epoch: 1/30.. Training loss: 0.602.. Test loss: 0.492.. Test accuracy: 0.818\n",
      "Epoch: 2/30.. Training loss: 0.474.. Test loss: 0.443.. Test accuracy: 0.836\n",
      "Epoch: 3/30.. Training loss: 0.448.. Test loss: 0.428.. Test accuracy: 0.848\n",
      "Epoch: 4/30.. Training loss: 0.431.. Test loss: 0.442.. Test accuracy: 0.843\n",
      "Epoch: 5/30.. Training loss: 0.418.. Test loss: 0.393.. Test accuracy: 0.863\n",
      "Epoch: 6/30.. Training loss: 0.410.. Test loss: 0.394.. Test accuracy: 0.863\n",
      "Epoch: 7/30.. Training loss: 0.400.. Test loss: 0.397.. Test accuracy: 0.863\n",
      "Epoch: 8/30.. Training loss: 0.387.. Test loss: 0.397.. Test accuracy: 0.857\n",
      "Epoch: 9/30.. Training loss: 0.394.. Test loss: 0.398.. Test accuracy: 0.859\n",
      "Epoch: 10/30.. Training loss: 0.390.. Test loss: 0.384.. Test accuracy: 0.866\n",
      "Epoch: 11/30.. Training loss: 0.377.. Test loss: 0.396.. Test accuracy: 0.855\n",
      "Epoch: 12/30.. Training loss: 0.380.. Test loss: 0.361.. Test accuracy: 0.868\n",
      "Epoch: 13/30.. Training loss: 0.373.. Test loss: 0.376.. Test accuracy: 0.868\n",
      "Epoch: 14/30.. Training loss: 0.375.. Test loss: 0.377.. Test accuracy: 0.869\n",
      "Epoch: 15/30.. Training loss: 0.366.. Test loss: 0.370.. Test accuracy: 0.874\n",
      "Epoch: 16/30.. Training loss: 0.365.. Test loss: 0.381.. Test accuracy: 0.865\n",
      "Epoch: 17/30.. Training loss: 0.362.. Test loss: 0.384.. Test accuracy: 0.865\n",
      "Epoch: 18/30.. Training loss: 0.358.. Test loss: 0.375.. Test accuracy: 0.873\n",
      "Epoch: 19/30.. Training loss: 0.360.. Test loss: 0.386.. Test accuracy: 0.867\n",
      "Epoch: 20/30.. Training loss: 0.357.. Test loss: 0.376.. Test accuracy: 0.874\n",
      "Epoch: 21/30.. Training loss: 0.352.. Test loss: 0.371.. Test accuracy: 0.866\n",
      "Epoch: 22/30.. Training loss: 0.349.. Test loss: 0.392.. Test accuracy: 0.866\n",
      "Epoch: 23/30.. Training loss: 0.353.. Test loss: 0.384.. Test accuracy: 0.873\n",
      "Epoch: 24/30.. Training loss: 0.345.. Test loss: 0.381.. Test accuracy: 0.869\n",
      "Epoch: 25/30.. Training loss: 0.343.. Test loss: 0.355.. Test accuracy: 0.877\n",
      "Epoch: 26/30.. Training loss: 0.357.. Test loss: 0.359.. Test accuracy: 0.880\n",
      "Epoch: 27/30.. Training loss: 0.351.. Test loss: 0.378.. Test accuracy: 0.873\n",
      "Epoch: 28/30.. Training loss: 0.342.. Test loss: 0.392.. Test accuracy: 0.869\n",
      "Epoch: 29/30.. Training loss: 0.348.. Test loss: 0.389.. Test accuracy: 0.873\n",
      "Epoch: 30/30.. Training loss: 0.337.. Test loss: 0.389.. Test accuracy: 0.872\n"
     ]
    }
   ],
   "source": [
    "## Task 3:\n",
    "## Your code here \n",
    "train_losses2 = []\n",
    "test_losses2 = []\n",
    "test_accuracy2 = []\n",
    "model2 = Classifier()\n",
    "criterion2 = nn.NLLLoss() \n",
    "optimizer2 = optim.Adam(model2.parameters(), lr=0.003)\n",
    "\n",
    "epochs = 30\n",
    "steps = 0 # \n",
    "\n",
    "for e in range(epochs):\n",
    "    running_loss = 0\n",
    "    test_loss = 0 \n",
    "    accuracy = 0\n",
    "\n",
    "\n",
    "    model2.train()\n",
    "    for images, labels in trainloader:\n",
    "        optimizer2.zero_grad() # zero the previous epochs gradients\n",
    "        log_ps = model2(images) # forward pass to make the 'predictions' -> in log propabilities\n",
    "        loss = criterion2(log_ps, labels) # calculate loss \n",
    "        loss.backward() # backward pass to calculate the gradients \n",
    "        optimizer2.step() # updating the weights\n",
    "        running_loss += loss.item() # add the loss to the running loss\n",
    "    \n",
    "    train_losses2.append(running_loss / len(trainloader))\n",
    "\n",
    "    with torch.no_grad():\n",
    "        model2.eval()\n",
    "        for images, labels in testloader:\n",
    "            log_ps = model2(images)\n",
    "            loss = criterion2(log_ps, labels)\n",
    "            test_loss += loss.item() \n",
    "\n",
    "            class_probabilities = torch.exp(log_ps)  # Convert log probabilities to probabilities\n",
    "            top_p, top_class = class_probabilities.topk(1, dim=1)  #get the top class and its probability\n",
    "            equals = top_class == labels.view(*top_class.shape)  # Compare with true labels\n",
    "            accuracy += torch.sum(equals).item()  # Count correct predictions \n",
    "\n",
    "    test_losses2.append(test_loss / len(testloader))  # calculate average test loss for the epoch\n",
    "    test_accuracy2.append(accuracy / len(testloader.dataset)) # calculate average test accuracy for the epoch\n",
    "\n",
    "    print(f'Epoch: {e+1}/{epochs}.. '\n",
    "            f'Training loss: {train_losses2[-1]:.3f}.. '\n",
    "            f'Test loss: {test_losses2[-1]:.3f}.. '\n",
    "            f'Test accuracy: {test_accuracy2[-1]:.3f}')\n"
   ]
  },
  {
   "cell_type": "markdown",
   "metadata": {},
   "source": [
    "***\n",
    "**Part C**: Plot training loss and validation loss to see if you can get a lower validation loss or higher accuracy."
   ]
  },
  {
   "cell_type": "code",
   "execution_count": 19,
   "metadata": {},
   "outputs": [],
   "source": [
    "%matplotlib inline\n",
    "%config InlineBackend.figure_format = 'retina'\n",
    "\n",
    "import matplotlib.pyplot as plt"
   ]
  },
  {
   "cell_type": "code",
   "execution_count": 22,
   "metadata": {},
   "outputs": [
    {
     "data": {
      "image/png": "[encoded data removed]",
      "text/plain": [
       "<Figure size 640x480 with 1 Axes>"
      ]
     },
     "metadata": {
      "image/png": {
       "height": 413,
       "width": 558
      }
     },
     "output_type": "display_data"
    }
   ],
   "source": [
    "## Task 4:\n",
    "## Your code here \n",
    "\n",
    "plt.plot(train_losses2, label='Training loss')\n",
    "plt.plot(test_losses2, label='Validation loss')\n",
    "plt.legend(frameon=False)\n",
    "plt.show()\n",
    "\n"
   ]
  },
  {
   "cell_type": "markdown",
   "metadata": {},
   "source": [
    "***\n",
    "### More about overfitting \n",
    "\n",
    "\"Dropout\" method helps to cope with overfitting. However it makes model debuging bit harder and you must remember to turn dropout OFF while using the network, i.e. dropout is used only in training. But don't worry Pytorch will do it for you if you remember initialize dropout \n",
    "\n",
    "```python\n",
    "# Dropout module with 0.2 drop probability\n",
    "        self.dropout = nn.Dropout(p=0.2)\n",
    "```\n",
    "\n",
    "and set model to evaluation mode\n",
    "        \n",
    "```python\n",
    "# set model to evaluation mode\n",
    "    model.eval()\n",
    "```       \n",
    "\n",
    "these are not preferred method for overfitting.\n",
    "\n",
    "#### Other methods to cope with overfitting\n",
    "\n",
    "##### Early-stopping\n",
    "\n",
    "Training stopping at the point where it reaches best performance (= minimum error/loss), is also used to cope with overfitting, but this is not recommended because this limits training data usage to some maximum amount. And because modern deep learning models are based to training with big data amounts, this is very tricky combination...\n",
    "\n",
    "<img src='../data/assets/Early_stopping.svg' width=400px>\n",
    "\n",
    "\n",
    "##### Regulation\n",
    "Another very popular method for overfitting is regularization. This method is based on target to minimize weights (=co-efficients = w) in the network. This is done by adding the `|w|` or `|w|^2` to loss function.\n",
    "\n",
    "<img src='../data/assets/Error_function_reg.svg' width=700px>\n",
    "\n"
   ]
  },
  {
   "cell_type": "markdown",
   "metadata": {},
   "source": [
    "## Inference\n",
    "\n",
    "Now that the model is trained, we can use it for inference. We've done this before, but now we need to remember to set the model in inference mode with `model.eval()`. You'll also want to turn off autograd with the `torch.no_grad()` context."
   ]
  },
  {
   "cell_type": "code",
   "execution_count": 21,
   "metadata": {},
   "outputs": [
    {
     "name": "stdout",
     "output_type": "stream",
     "text": [
      "Label: 8\n"
     ]
    },
    {
     "data": {
      "image/png": "[encoded data removed]",
      "text/plain": [
       "<Figure size 600x900 with 2 Axes>"
      ]
     },
     "metadata": {
      "image/png": {
       "height": 301,
       "width": 589
      }
     },
     "output_type": "display_data"
    }
   ],
   "source": [
    "# Import helper module (should be in the repo)\n",
    "import sys\n",
    "sys.path.insert(0, '../answers')\n",
    "import helper\n",
    "\n",
    "# Test out your network!\n",
    "\n",
    "model2.eval()\n",
    "\n",
    "dataiter = iter(testloader)\n",
    "images, labels = next(dataiter)\n",
    "img = images[0]\n",
    "# Convert 2D image to 1D vector\n",
    "img = img.view(1, 784)\n",
    "\n",
    "# Calculate the class probabilities (softmax) for img\n",
    "with torch.no_grad():\n",
    "    output = model2.forward(img)\n",
    "\n",
    "ps = torch.exp(output)\n",
    "\n",
    "# Plot the image and probabilities\n",
    "helper.view_classify(img.view(1, 28, 28), ps, version='Fashion')\n",
    "\n",
    "print('Label:', labels[0].item())"
   ]
  },
  {
   "cell_type": "markdown",
   "metadata": {},
   "source": [
    "## Next Up!\n",
    "\n",
    "In the next part, I'll show you how to save your trained models. In general, you won't want to train a model everytime you need it. Instead, you'll train once, save it, then load the model when you want to train more or use if for inference."
   ]
  },
  {
   "cell_type": "markdown",
   "metadata": {},
   "source": [
    "## Reflection\n",
    "\n",
    "Answer briefly following questions (in English or Finnish):\n",
    "- What is overfitting?\n",
    "- How you can avoid overfitting?\n",
    "\n",
    "#### Network Performance\n",
    "\n",
    "- Does network Training Loss decrease monotonously? What about Validation Loss?\n",
    "- Is the performance better when using dropout with 20% drop rate? What about if you change drop rate?\n"
   ]
  },
  {
   "cell_type": "markdown",
   "metadata": {},
   "source": [
    "**Overfitting** \n",
    "Over fitting on the test data happens when the model becomes too complex and learns the detail and patterns from noise in the training data to the extent that it negatively impacts the performance of the model on new data (on the validation/test data). This can also happen if the data contains noise or the number of samples is too small.\n",
    "\n",
    "**Avoiding overfitting**\n",
    "Avoiding this can be done in many ways which include:\n",
    "1) Simplifying the model by selecting a model with fewer parameters, reducing the number of attributes in the training data, or constraining the model.\n",
    "2) More data for the training\n",
    "3) Regularization:\n",
    "    - L1 regularization: adds a penalty equal to the absolute value of the magnitude of coefficients to the loss function\n",
    "    - L2 regularization: adds a penalty equal to the square of the magnitude of coefficients to the loss function\n",
    "4) Drop out: randomly setting a fraction of the input units to 0 at each update during training\n",
    "5) Early stopping: stopping the training process when the model performance on the validation set starts to degrade.\n",
    "\n",
    "\n",
    "**Network Performance**\n",
    "\n",
    "Without dropout, the training loss decreases monotonically, meaning the model is progressively learning to minimize the error on the training data. The validation loss fluctuates. It generally decreases initially but starts to increase and decrease at later epochs, which suggests that the model is starting to overfit.\n",
    "\n",
    "With the dropout (20%), the training loss decreases steadily, indicating that the model is learning. Compared to the model without dropout, the rate of the decrease is slower. The validation loss still fluctuates and more in comparison to the model without dropout, but this is expected because dropout introduces randomness into the training process, which can affect the model’s ability to consistently generalize.\n",
    "\n",
    "\n",
    "\n",
    "Sources:\n",
    "[Hands-On Machine Learning with Scikit-Learn & TensorFlow](https://www.adlibris.com/fi/kirja/hands-on-machine-learning-with-scikit-learn-keras-and-tensorflow-3e-9781098125974?utm_source=google&utm_medium=cpc&utm_campaign=AR-FI:%20BOK%20-%20pMAX%20Shopping%20-%20Generic%20-%20B%C3%B6cker%20ENG%20+%20SV&gad_source=1&gclid=CjwKCAiAqrG9BhAVEiwAaPu5zlkJsmC2JTm73EzyCBejwbDEGM8R3Q73eo7YAvrsnnPMUsvRuKxvyxoCg2IQAvD_BwE)\n",
    "\n"
   ]
  },
  {
   "cell_type": "markdown",
   "metadata": {},
   "source": [
    "### Check your answers by running following cell:"
   ]
  },
  {
   "cell_type": "code",
   "execution_count": 23,
   "metadata": {},
   "outputs": [
    {
     "name": "stdout",
     "output_type": "stream",
     "text": [
      "Results:\n",
      "\n",
      "Without dropout:\n",
      "Classifier(\n",
      "  (fc1): Linear(in_features=784, out_features=256, bias=True)\n",
      "  (fc2): Linear(in_features=256, out_features=128, bias=True)\n",
      "  (fc3): Linear(in_features=128, out_features=64, bias=True)\n",
      "  (fc4): Linear(in_features=64, out_features=10, bias=True)\n",
      ")\n",
      "NLLLoss()\n",
      "Adam (\n",
      "Parameter Group 0\n",
      "    amsgrad: False\n",
      "    betas: (0.9, 0.999)\n",
      "    capturable: False\n",
      "    differentiable: False\n",
      "    eps: 1e-08\n",
      "    foreach: None\n",
      "    fused: None\n",
      "    lr: 0.003\n",
      "    maximize: False\n",
      "    weight_decay: 0\n",
      ")\n",
      "\n",
      "With dropout:\n",
      "Classifier(\n",
      "  (fc1): Linear(in_features=784, out_features=256, bias=True)\n",
      "  (fc2): Linear(in_features=256, out_features=128, bias=True)\n",
      "  (fc3): Linear(in_features=128, out_features=64, bias=True)\n",
      "  (fc4): Linear(in_features=64, out_features=10, bias=True)\n",
      "  (dropout): Dropout(p=0.2, inplace=False)\n",
      ")\n",
      "NLLLoss()\n",
      "Adam (\n",
      "Parameter Group 0\n",
      "    amsgrad: False\n",
      "    betas: (0.9, 0.999)\n",
      "    capturable: False\n",
      "    differentiable: False\n",
      "    eps: 1e-08\n",
      "    foreach: None\n",
      "    fused: None\n",
      "    lr: 0.003\n",
      "    maximize: False\n",
      "    weight_decay: 0\n",
      ")\n",
      "Without dropout\n",
      "Train loss:  0.18786398318212932\n",
      "Test loss:  0.4211177291573992\n",
      "\n",
      "With dropout\n",
      "Train loss:  0.3366339580733766\n",
      "Test loss:  0.3888191771545228\n",
      "\n",
      "'training_losses' are ok!\n",
      "\n",
      "\n",
      "Without dropout\n",
      "Accuracy:  0.8829\n",
      "\n",
      "With dropout\n",
      "Accuracy:  0.8715\n",
      "\n",
      "'accuracies' are ok!\n"
     ]
    }
   ],
   "source": [
    "# Do not change this code!\n",
    "\n",
    "import sys\n",
    "sys.path.insert(0, '../answers/part5/')\n",
    "from part5_check import *\n",
    "\n",
    "\n",
    "print(\"Results:\\n\")\n",
    "\n",
    "print(\"Without dropout:\")\n",
    "print(model1)\n",
    "print(criterion1)\n",
    "print(optimizer1)\n",
    "\n",
    "print(\"\\nWith dropout:\")\n",
    "print(model2)\n",
    "print(criterion2)\n",
    "print(optimizer2)\n",
    "\n",
    "losses_check(train_losses1, test_losses1, train_losses2, test_losses2)\n",
    "accuracies_check(test_accuracy1, test_accuracy2)\n"
   ]
  },
  {
   "cell_type": "markdown",
   "metadata": {},
   "source": [
    "### Great work!"
   ]
  }
 ],
 "metadata": {
  "kernelspec": {
   "display_name": "ML",
   "language": "python",
   "name": "python3"
  },
  "language_info": {
   "codemirror_mode": {
    "name": "ipython",
    "version": 3
   },
   "file_extension": ".py",
   "mimetype": "text/x-python",
   "name": "python",
   "nbconvert_exporter": "python",
   "pygments_lexer": "ipython3",
   "version": "3.9.19"
  }
 },
 "nbformat": 4,
 "nbformat_minor": 4
}
