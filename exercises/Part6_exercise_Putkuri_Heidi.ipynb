{
 "cells": [
  {
   "cell_type": "markdown",
   "metadata": {},
   "source": [
    "#### Print your name"
   ]
  },
  {
   "cell_type": "code",
   "execution_count": 1,
   "metadata": {},
   "outputs": [
    {
     "name": "stdout",
     "output_type": "stream",
     "text": [
      "Exercise by: Heidi Putkuri\n"
     ]
    }
   ],
   "source": [
    "## Your code here \n",
    "print(\"Exercise by: Heidi Putkuri\")"
   ]
  },
  {
   "cell_type": "markdown",
   "metadata": {},
   "source": [
    "# Saving and Loading Models\n",
    "\n",
    "In this notebook, I'll show you how to save and load models with PyTorch. This is important because you'll often want to load previously trained models to use in making predictions or to continue training on new data."
   ]
  },
  {
   "cell_type": "code",
   "execution_count": 2,
   "metadata": {},
   "outputs": [],
   "source": [
    "%matplotlib inline\n",
    "%config InlineBackend.figure_format = 'retina'\n",
    "\n",
    "import matplotlib.pyplot as plt\n",
    "\n",
    "import torch\n",
    "from torch import nn\n",
    "from torch import optim\n",
    "import torch.nn.functional as F\n",
    "from torchvision import datasets, transforms\n",
    "\n",
    "import sys\n",
    "sys.path.insert(0, '../answers')\n",
    "import helper\n",
    "import fc_model"
   ]
  },
  {
   "cell_type": "code",
   "execution_count": 3,
   "metadata": {},
   "outputs": [],
   "source": [
    "# Define a transform to normalize the data\n",
    "transform = transforms.Compose([transforms.ToTensor(),\n",
    "                                transforms.Normalize((0.5,), (0.5,))])\n",
    "# Download and load the training data\n",
    "trainset = datasets.FashionMNIST('~/.pytorch/F_MNIST_data/', download=True, train=True, transform=transform)\n",
    "trainloader = torch.utils.data.DataLoader(trainset, batch_size=64, shuffle=True)\n",
    "\n",
    "# Download and load the test data\n",
    "testset = datasets.FashionMNIST('~/.pytorch/F_MNIST_data/', download=True, train=False, transform=transform)\n",
    "testloader = torch.utils.data.DataLoader(testset, batch_size=64, shuffle=True)"
   ]
  },
  {
   "cell_type": "markdown",
   "metadata": {},
   "source": [
    "Here we can see one of the images."
   ]
  },
  {
   "cell_type": "code",
   "execution_count": 4,
   "metadata": {},
   "outputs": [
    {
     "data": {
      "image/png": "[encoded data removed]",
      "text/plain": [
       "<Figure size 640x480 with 1 Axes>"
      ]
     },
     "metadata": {
      "image/png": {
       "height": 389,
       "width": 389
      }
     },
     "output_type": "display_data"
    }
   ],
   "source": [
    "image, label = next(iter(trainloader))\n",
    "helper.imshow(image[0,:]);"
   ]
  },
  {
   "cell_type": "markdown",
   "metadata": {},
   "source": [
    "# Train a network\n",
    "\n",
    "To make things more concise here, I moved the model architecture and training code from the last part to a file called `fc_model`. Importing this, we can easily create a fully-connected network with `fc_model.Network`, and train the network using `fc_model.train`. I'll use this model (once it's trained) to demonstrate how we can save and load models."
   ]
  },
  {
   "cell_type": "code",
   "execution_count": 5,
   "metadata": {},
   "outputs": [],
   "source": [
    "# Create the network, define the criterion and optimizer\n",
    "\n",
    "model = fc_model.Network(784, 10, [512, 256, 128])\n",
    "criterion = nn.NLLLoss()\n",
    "optimizer = optim.Adam(model.parameters(), lr=0.001)\n"
   ]
  },
  {
   "cell_type": "code",
   "execution_count": 6,
   "metadata": {},
   "outputs": [
    {
     "name": "stdout",
     "output_type": "stream",
     "text": [
      "Epoch: 1/2..  Training Loss: 1.697..  Test Loss: 1.001..  Test Accuracy: 0.642\n",
      "Epoch: 1/2..  Training Loss: 1.045..  Test Loss: 0.759..  Test Accuracy: 0.728\n",
      "Epoch: 1/2..  Training Loss: 0.878..  Test Loss: 0.689..  Test Accuracy: 0.736\n",
      "Epoch: 1/2..  Training Loss: 0.771..  Test Loss: 0.670..  Test Accuracy: 0.741\n",
      "Epoch: 1/2..  Training Loss: 0.785..  Test Loss: 0.631..  Test Accuracy: 0.759\n",
      "Epoch: 1/2..  Training Loss: 0.753..  Test Loss: 0.589..  Test Accuracy: 0.784\n",
      "Epoch: 1/2..  Training Loss: 0.701..  Test Loss: 0.638..  Test Accuracy: 0.770\n",
      "Epoch: 1/2..  Training Loss: 0.701..  Test Loss: 0.597..  Test Accuracy: 0.778\n",
      "Epoch: 1/2..  Training Loss: 0.649..  Test Loss: 0.553..  Test Accuracy: 0.798\n",
      "Epoch: 1/2..  Training Loss: 0.655..  Test Loss: 0.546..  Test Accuracy: 0.795\n",
      "Epoch: 1/2..  Training Loss: 0.645..  Test Loss: 0.536..  Test Accuracy: 0.797\n",
      "Epoch: 1/2..  Training Loss: 0.635..  Test Loss: 0.536..  Test Accuracy: 0.800\n",
      "Epoch: 1/2..  Training Loss: 0.613..  Test Loss: 0.526..  Test Accuracy: 0.809\n",
      "Epoch: 1/2..  Training Loss: 0.578..  Test Loss: 0.550..  Test Accuracy: 0.790\n",
      "Epoch: 1/2..  Training Loss: 0.588..  Test Loss: 0.515..  Test Accuracy: 0.806\n",
      "Epoch: 1/2..  Training Loss: 0.579..  Test Loss: 0.506..  Test Accuracy: 0.815\n",
      "Epoch: 1/2..  Training Loss: 0.625..  Test Loss: 0.499..  Test Accuracy: 0.813\n",
      "Epoch: 1/2..  Training Loss: 0.579..  Test Loss: 0.514..  Test Accuracy: 0.808\n",
      "Epoch: 1/2..  Training Loss: 0.586..  Test Loss: 0.511..  Test Accuracy: 0.808\n",
      "Epoch: 1/2..  Training Loss: 0.565..  Test Loss: 0.496..  Test Accuracy: 0.812\n",
      "Epoch: 1/2..  Training Loss: 0.601..  Test Loss: 0.477..  Test Accuracy: 0.821\n",
      "Epoch: 1/2..  Training Loss: 0.553..  Test Loss: 0.484..  Test Accuracy: 0.819\n",
      "Epoch: 1/2..  Training Loss: 0.566..  Test Loss: 0.490..  Test Accuracy: 0.823\n",
      "Epoch: 2/2..  Training Loss: 0.571..  Test Loss: 0.505..  Test Accuracy: 0.811\n",
      "Epoch: 2/2..  Training Loss: 0.532..  Test Loss: 0.467..  Test Accuracy: 0.825\n",
      "Epoch: 2/2..  Training Loss: 0.519..  Test Loss: 0.466..  Test Accuracy: 0.827\n",
      "Epoch: 2/2..  Training Loss: 0.544..  Test Loss: 0.470..  Test Accuracy: 0.823\n",
      "Epoch: 2/2..  Training Loss: 0.542..  Test Loss: 0.470..  Test Accuracy: 0.826\n",
      "Epoch: 2/2..  Training Loss: 0.517..  Test Loss: 0.463..  Test Accuracy: 0.834\n",
      "Epoch: 2/2..  Training Loss: 0.561..  Test Loss: 0.461..  Test Accuracy: 0.830\n",
      "Epoch: 2/2..  Training Loss: 0.465..  Test Loss: 0.461..  Test Accuracy: 0.831\n",
      "Epoch: 2/2..  Training Loss: 0.551..  Test Loss: 0.461..  Test Accuracy: 0.826\n",
      "Epoch: 2/2..  Training Loss: 0.548..  Test Loss: 0.460..  Test Accuracy: 0.830\n",
      "Epoch: 2/2..  Training Loss: 0.518..  Test Loss: 0.467..  Test Accuracy: 0.828\n",
      "Epoch: 2/2..  Training Loss: 0.563..  Test Loss: 0.455..  Test Accuracy: 0.832\n",
      "Epoch: 2/2..  Training Loss: 0.526..  Test Loss: 0.459..  Test Accuracy: 0.834\n",
      "Epoch: 2/2..  Training Loss: 0.565..  Test Loss: 0.463..  Test Accuracy: 0.828\n",
      "Epoch: 2/2..  Training Loss: 0.496..  Test Loss: 0.466..  Test Accuracy: 0.828\n",
      "Epoch: 2/2..  Training Loss: 0.491..  Test Loss: 0.456..  Test Accuracy: 0.830\n",
      "Epoch: 2/2..  Training Loss: 0.546..  Test Loss: 0.445..  Test Accuracy: 0.835\n",
      "Epoch: 2/2..  Training Loss: 0.547..  Test Loss: 0.460..  Test Accuracy: 0.830\n",
      "Epoch: 2/2..  Training Loss: 0.535..  Test Loss: 0.459..  Test Accuracy: 0.840\n",
      "Epoch: 2/2..  Training Loss: 0.536..  Test Loss: 0.444..  Test Accuracy: 0.840\n",
      "Epoch: 2/2..  Training Loss: 0.552..  Test Loss: 0.465..  Test Accuracy: 0.836\n",
      "Epoch: 2/2..  Training Loss: 0.508..  Test Loss: 0.435..  Test Accuracy: 0.841\n",
      "Epoch: 2/2..  Training Loss: 0.488..  Test Loss: 0.438..  Test Accuracy: 0.845\n"
     ]
    }
   ],
   "source": [
    "fc_model.train(model, trainloader, testloader, criterion, optimizer, epochs=2)"
   ]
  },
  {
   "cell_type": "markdown",
   "metadata": {},
   "source": [
    "## Saving and loading networks\n",
    "\n",
    "As you can imagine, it's impractical to train a network every time you need to use it. Instead, we can save trained networks then load them later to train more or use them for predictions.\n",
    "\n",
    "The parameters for PyTorch networks are stored in a model's `state_dict`. We can see the state dict contains the weight and bias matrices for each of our layers.\n",
    "\n",
    "**Note.** You can read here, why we are using `state_dict` when saving the model:\n",
    "https://pytorch.org/tutorials/beginner/saving_loading_models.html"
   ]
  },
  {
   "cell_type": "code",
   "execution_count": 7,
   "metadata": {},
   "outputs": [
    {
     "name": "stdout",
     "output_type": "stream",
     "text": [
      "Our model: \n",
      "\n",
      " Network(\n",
      "  (hidden_layers): ModuleList(\n",
      "    (0): Linear(in_features=784, out_features=512, bias=True)\n",
      "    (1): Linear(in_features=512, out_features=256, bias=True)\n",
      "    (2): Linear(in_features=256, out_features=128, bias=True)\n",
      "  )\n",
      "  (output): Linear(in_features=128, out_features=10, bias=True)\n",
      "  (dropout): Dropout(p=0.5, inplace=False)\n",
      ") \n",
      "\n",
      "The state dict keys: \n",
      "\n",
      " odict_keys(['hidden_layers.0.weight', 'hidden_layers.0.bias', 'hidden_layers.1.weight', 'hidden_layers.1.bias', 'hidden_layers.2.weight', 'hidden_layers.2.bias', 'output.weight', 'output.bias'])\n"
     ]
    }
   ],
   "source": [
    "print(\"Our model: \\n\\n\", model, '\\n')\n",
    "print(\"The state dict keys: \\n\\n\", model.state_dict().keys())"
   ]
  },
  {
   "cell_type": "markdown",
   "metadata": {},
   "source": [
    "The simplest thing to do is simply save the state dict with `torch.save`. For example, we can save it to a file `'network_A.pth'`."
   ]
  },
  {
   "cell_type": "code",
   "execution_count": 8,
   "metadata": {},
   "outputs": [],
   "source": [
    "torch.save(model.state_dict(), 'network_A.pth')"
   ]
  },
  {
   "cell_type": "markdown",
   "metadata": {},
   "source": [
    "Then we can load the state dict with `torch.load`."
   ]
  },
  {
   "cell_type": "code",
   "execution_count": 9,
   "metadata": {},
   "outputs": [
    {
     "name": "stdout",
     "output_type": "stream",
     "text": [
      "odict_keys(['hidden_layers.0.weight', 'hidden_layers.0.bias', 'hidden_layers.1.weight', 'hidden_layers.1.bias', 'hidden_layers.2.weight', 'hidden_layers.2.bias', 'output.weight', 'output.bias'])\n"
     ]
    }
   ],
   "source": [
    "state_dict = torch.load('network_A.pth', weights_only=True)\n",
    "print(state_dict.keys())"
   ]
  },
  {
   "cell_type": "markdown",
   "metadata": {},
   "source": [
    "And to load the state dict in to the network, you do `model.load_state_dict(state_dict)`."
   ]
  },
  {
   "cell_type": "code",
   "execution_count": 10,
   "metadata": {},
   "outputs": [
    {
     "data": {
      "text/plain": [
       "<All keys matched successfully>"
      ]
     },
     "execution_count": 10,
     "metadata": {},
     "output_type": "execute_result"
    }
   ],
   "source": [
    "model.load_state_dict(state_dict)"
   ]
  },
  {
   "cell_type": "markdown",
   "metadata": {},
   "source": [
    "Seems pretty straightforward, but as usual it's a bit more complicated. Loading the state dict works only if the model architecture is exactly the same as the checkpoint architecture. If I create a model with a different architecture, this fails."
   ]
  },
  {
   "cell_type": "markdown",
   "metadata": {},
   "source": [
    "***\n",
    "### Exercise: \n",
    "This code will throw an error because the tensor sizes are wrong! Correct it.\n",
    "```python\n",
    "# Code that throws an error\n",
    "loaded_model = fc_model.Network(784, 10, [400, 200, 100])\n",
    "loaded_model.load_state_dict(state_dict)\n",
    "```"
   ]
  },
  {
   "cell_type": "code",
   "execution_count": 11,
   "metadata": {},
   "outputs": [
    {
     "name": "stdout",
     "output_type": "stream",
     "text": [
      "Layer: hidden_layers.0.weight | Shape: torch.Size([512, 784])\n",
      "Layer: hidden_layers.0.bias | Shape: torch.Size([512])\n",
      "Layer: hidden_layers.1.weight | Shape: torch.Size([256, 512])\n",
      "Layer: hidden_layers.1.bias | Shape: torch.Size([256])\n",
      "Layer: hidden_layers.2.weight | Shape: torch.Size([128, 256])\n",
      "Layer: hidden_layers.2.bias | Shape: torch.Size([128])\n",
      "Layer: output.weight | Shape: torch.Size([10, 128])\n",
      "Layer: output.bias | Shape: torch.Size([10])\n"
     ]
    }
   ],
   "source": [
    "for name, param in state_dict.items():\n",
    "    print(f\"Layer: {name} | Shape: {param.shape}\")"
   ]
  },
  {
   "cell_type": "code",
   "execution_count": 12,
   "metadata": {},
   "outputs": [
    {
     "data": {
      "text/plain": [
       "<All keys matched successfully>"
      ]
     },
     "execution_count": 12,
     "metadata": {},
     "output_type": "execute_result"
    }
   ],
   "source": [
    "## Task 1:\n",
    "## Your code here \n",
    "loaded_model = fc_model.Network(784, 10, [512, 256, 128])\n",
    "loaded_model.load_state_dict(state_dict)\n"
   ]
  },
  {
   "cell_type": "markdown",
   "metadata": {},
   "source": [
    "***\n",
    "This means we need to rebuild the model exactly as it was when trained. Information about the model architecture needs to be saved in the checkpoint, along with the state dict. To do this, you build a dictionary with all the information you need to compeletely rebuild the model."
   ]
  },
  {
   "cell_type": "code",
   "execution_count": 13,
   "metadata": {},
   "outputs": [],
   "source": [
    "checkpoint = {'input_size': 784,\n",
    "              'output_size': 10,\n",
    "              'hidden_layers': [each.out_features for each in model.hidden_layers],\n",
    "              'state_dict': model.state_dict()}\n",
    "\n",
    "torch.save(checkpoint, 'network_B.pth')"
   ]
  },
  {
   "cell_type": "markdown",
   "metadata": {},
   "source": [
    "Now the checkpoint has all the necessary information to rebuild the trained model. You can easily make that a function if you want. Similarly, we can write a function to load checkpoints. "
   ]
  },
  {
   "cell_type": "code",
   "execution_count": 14,
   "metadata": {},
   "outputs": [],
   "source": [
    "def load_checkpoint(filepath):\n",
    "    checkpoint = torch.load(filepath, weights_only=True)\n",
    "    model = fc_model.Network(checkpoint['input_size'],\n",
    "                            checkpoint['output_size'],\n",
    "                            checkpoint['hidden_layers'])\n",
    "    model.load_state_dict(checkpoint['state_dict'])\n",
    "    \n",
    "    return model"
   ]
  },
  {
   "cell_type": "markdown",
   "metadata": {},
   "source": [
    "***\n",
    "### Exercise: \n",
    "Save model using checkpoint method with filename `example_network.pth`."
   ]
  },
  {
   "cell_type": "code",
   "execution_count": 15,
   "metadata": {},
   "outputs": [],
   "source": [
    "## Task 2:\n",
    "## Your code here \n",
    "torch.save(checkpoint, 'example_network.pth')"
   ]
  },
  {
   "cell_type": "markdown",
   "metadata": {},
   "source": [
    "And now let's remove original `model`. "
   ]
  },
  {
   "cell_type": "code",
   "execution_count": 16,
   "metadata": {},
   "outputs": [],
   "source": [
    "model = None"
   ]
  },
  {
   "cell_type": "markdown",
   "metadata": {},
   "source": [
    "***\n",
    "### Exercise: \n",
    "Import saved `example_network.pth` to variable `reloaded_model` and print network model."
   ]
  },
  {
   "cell_type": "code",
   "execution_count": 17,
   "metadata": {},
   "outputs": [
    {
     "name": "stdout",
     "output_type": "stream",
     "text": [
      "Network(\n",
      "  (hidden_layers): ModuleList(\n",
      "    (0): Linear(in_features=784, out_features=512, bias=True)\n",
      "    (1): Linear(in_features=512, out_features=256, bias=True)\n",
      "    (2): Linear(in_features=256, out_features=128, bias=True)\n",
      "  )\n",
      "  (output): Linear(in_features=128, out_features=10, bias=True)\n",
      "  (dropout): Dropout(p=0.5, inplace=False)\n",
      ")\n"
     ]
    }
   ],
   "source": [
    "## Task 3:\n",
    "## Your code here \n",
    "\n",
    "reloaded_model = load_checkpoint('example_network.pth')\n",
    "print(reloaded_model)\n",
    "\n",
    " "
   ]
  },
  {
   "cell_type": "markdown",
   "metadata": {},
   "source": [
    "***\n",
    "### Exercise: \n",
    "Test `reloaded_model` by \n",
    "1. Calculate test loss and test accuracy with test dataset.\n",
    "2. Print 1 example image with class probabilities.\n",
    "\n",
    "**Note.** Use `model.eval()`to prevent dropout to work during inference."
   ]
  },
  {
   "cell_type": "code",
   "execution_count": 18,
   "metadata": {},
   "outputs": [],
   "source": [
    "## Task 4:\n",
    "## Your code here \n",
    "reloaded_model.eval()\n",
    "criterion = nn.NLLLoss()\n",
    "test_loss = 0\n",
    "test_accuracy = 0\n",
    "batch_count = 0  # To count the number of batches\n",
    "\n",
    "with torch.no_grad():  # Turn off gradients for validation\n",
    "    for images, labels in testloader:\n",
    "        images = images.view(images.shape[0], -1)  # Flatten the image\n",
    "        log_ps = reloaded_model(images)  # Forward pass\n",
    "        loss = criterion(log_ps, labels)\n",
    "        test_loss += loss.item()  # Accumulate test loss\n",
    "\n",
    "        class_probabilities = torch.exp(log_ps)  # Convert log probabilities to probabilities\n",
    "        top_p, top_class = class_probabilities.topk(1, dim=1)  # Get the top class and its probability\n",
    "        equals = top_class == labels.view(*top_class.shape)  # Compare with true labels\n",
    "        test_accuracy += torch.sum(equals).item()  # Accumulate correct predictions\n",
    "\n",
    "        batch_count += 1  # Count the number of batches\n",
    "\n",
    "# Average test loss and accuracy per batch\n",
    "test_loss /= batch_count  # Divide by the number of batches\n",
    "test_accuracy /= len(testloader.dataset)  # Divide by the total number of examples\n"
   ]
  },
  {
   "cell_type": "code",
   "execution_count": 19,
   "metadata": {},
   "outputs": [
    {
     "name": "stdout",
     "output_type": "stream",
     "text": [
      "Test Loss: 0.434..  Test Accuracy: 0.841\n"
     ]
    }
   ],
   "source": [
    "print(\"Test Loss: {:.3f}.. \".format(test_loss),\n",
    "        \"Test Accuracy: {:.3f}\".format(test_accuracy))"
   ]
  },
  {
   "cell_type": "code",
   "execution_count": 22,
   "metadata": {},
   "outputs": [
    {
     "name": "stdout",
     "output_type": "stream",
     "text": [
      "Label: 7\n"
     ]
    },
    {
     "data": {
      "image/png": "[encoded data removed]",
      "text/plain": [
       "<Figure size 600x900 with 2 Axes>"
      ]
     },
     "metadata": {
      "image/png": {
       "height": 301,
       "width": 589
      }
     },
     "output_type": "display_data"
    }
   ],
   "source": [
    "\n",
    "## Task 5:\n",
    "## Your code here \n",
    "reloaded_model.eval()  # Set the model to evaluation mode\n",
    "\n",
    "dataiter = iter(testloader)\n",
    "images, labels = next(dataiter)\n",
    "img = images[0]\n",
    "# Convert 2D image to 1D vector\n",
    "img = img.view(1, 784)\n",
    "\n",
    "# Calculate the class probabilities (softmax) for img\n",
    "with torch.no_grad():\n",
    "    output = reloaded_model.forward(img)\n",
    "\n",
    "ps = torch.exp(output)\n",
    "\n",
    "# Plot the image and probabilities\n",
    "helper.view_classify(img.view(1, 28, 28), ps, version='Fashion')\n",
    "\n",
    "print('Label:', labels[0].item())\n",
    "\n",
    "example_label = labels[0].item()\n",
    "example_probabilities = ps\n"
   ]
  },
  {
   "cell_type": "markdown",
   "metadata": {},
   "source": [
    "### Check your answers by running following cell:"
   ]
  },
  {
   "cell_type": "code",
   "execution_count": 23,
   "metadata": {},
   "outputs": [
    {
     "name": "stdout",
     "output_type": "stream",
     "text": [
      "Reloaded model:\n",
      "Network(\n",
      "  (hidden_layers): ModuleList(\n",
      "    (0): Linear(in_features=784, out_features=512, bias=True)\n",
      "    (1): Linear(in_features=512, out_features=256, bias=True)\n",
      "    (2): Linear(in_features=256, out_features=128, bias=True)\n",
      "  )\n",
      "  (output): Linear(in_features=128, out_features=10, bias=True)\n",
      "  (dropout): Dropout(p=0.5, inplace=False)\n",
      ")\n",
      "\n",
      "Test results:\n",
      "Loss:  0.4339784689389976\n",
      "Accuracy:  0.841\n",
      "\n",
      "Test results are ok!\n",
      "\n",
      "Example:\n",
      "Label:  7\n",
      "Probabilities:  tensor([[5.0092e-10, 3.3004e-13, 6.1204e-12, 1.2471e-10, 3.4031e-12, 3.2444e-03,\n",
      "         5.0766e-11, 9.9662e-01, 1.3551e-06, 1.3783e-04]])\n",
      "Check correct label:  tensor([0.9966])\n"
     ]
    }
   ],
   "source": [
    "# Do not change this code!\n",
    "\n",
    "import sys\n",
    "sys.path.insert(0, '../answers/part6/')\n",
    "from part6_check import *\n",
    "\n",
    "print(\"Reloaded model:\")\n",
    "print(reloaded_model)\n",
    "\n",
    "print(\"\\nTest results:\")\n",
    "test_result_check(test_loss, test_accuracy)\n",
    "\n",
    "print(\"\\nExample:\")\n",
    "print(\"Label: \", example_label)\n",
    "print(\"Probabilities: \", example_probabilities)\n",
    "print(\"Check correct label: \", example_probabilities[:, example_label])\n"
   ]
  },
  {
   "cell_type": "markdown",
   "metadata": {},
   "source": [
    "### Great work!"
   ]
  }
 ],
 "metadata": {
  "kernelspec": {
   "display_name": "ML",
   "language": "python",
   "name": "python3"
  },
  "language_info": {
   "codemirror_mode": {
    "name": "ipython",
    "version": 3
   },
   "file_extension": ".py",
   "mimetype": "text/x-python",
   "name": "python",
   "nbconvert_exporter": "python",
   "pygments_lexer": "ipython3",
   "version": "3.9.19"
  }
 },
 "nbformat": 4,
 "nbformat_minor": 4
}
